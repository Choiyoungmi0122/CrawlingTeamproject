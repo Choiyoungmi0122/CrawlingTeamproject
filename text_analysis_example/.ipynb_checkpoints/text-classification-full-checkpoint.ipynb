{
 "cells": [
  {
   "cell_type": "code",
   "execution_count": 1,
   "metadata": {},
   "outputs": [
    {
     "name": "stderr",
     "output_type": "stream",
     "text": [
      "/anaconda3/lib/python3.7/site-packages/jpype/_core.py:210: UserWarning: \n",
      "-------------------------------------------------------------------------------\n",
      "Deprecated: convertStrings was not specified when starting the JVM. The default\n",
      "behavior in JPype will be False starting in JPype 0.8. The recommended setting\n",
      "for new code is convertStrings=False.  The legacy value of True was assumed for\n",
      "this session. If you are a user of an application that reported this warning,\n",
      "please file a ticket with the developer.\n",
      "-------------------------------------------------------------------------------\n",
      "\n",
      "  \"\"\")\n"
     ]
    }
   ],
   "source": [
    "from konlpy.tag import Mecab\n",
    "from konlpy.tag import Okt\n",
    "\n",
    "mecab = Mecab()\n",
    "okt = Okt()"
   ]
  },
  {
   "cell_type": "code",
   "execution_count": 11,
   "metadata": {},
   "outputs": [],
   "source": [
    "def read_documents(filename):\n",
    "    with open(filename, encoding=\"utf-8\")as f:\n",
    "        documents = [line.split(\"\\t\") for line in f.read().splitlines()]\n",
    "        documents = documents[1:]\n",
    "    return documents\n",
    "\n",
    "train_docs = read_documents(\"data/nsmc/ratings_train.txt\")\n",
    "test_docs = read_documents(\"data/nsmc/ratings_test.txt\")"
   ]
  },
  {
   "cell_type": "code",
   "execution_count": 12,
   "metadata": {},
   "outputs": [
    {
     "name": "stdout",
     "output_type": "stream",
     "text": [
      "150000\n",
      "50000\n"
     ]
    }
   ],
   "source": [
    "print(len(train_docs))\n",
    "print(len(test_docs))"
   ]
  },
  {
   "cell_type": "code",
   "execution_count": null,
   "metadata": {},
   "outputs": [],
   "source": []
  },
  {
   "cell_type": "code",
   "execution_count": 14,
   "metadata": {},
   "outputs": [],
   "source": [
    "def text_cleaning(doc):    \n",
    "    doc = re.sub(\"[^ㄱ-ㅎㅏ-ㅣ가-힣]\", \"\", doc)    \n",
    "    return doc\n",
    "\n",
    "def define_stopwords(path):\n",
    "    SW = set()\n",
    "    \n",
    "    with open(path) as f:\n",
    "        for word in f:\n",
    "            SW.add(word)\n",
    "    return SW\n",
    "\n",
    "def text_tokenizing(doc):\n",
    "#      print(okt.morphs(doc))\n",
    "    return [word for word in mecab.morphs(doc) if word not in SW and len(word) > 1]"
   ]
  },
  {
   "cell_type": "code",
   "execution_count": null,
   "metadata": {},
   "outputs": [],
   "source": []
  },
  {
   "cell_type": "code",
   "execution_count": 15,
   "metadata": {},
   "outputs": [],
   "source": [
    "import json\n",
    "import os\n",
    "import re\n",
    "from pprint import pprint"
   ]
  },
  {
   "cell_type": "code",
   "execution_count": 16,
   "metadata": {},
   "outputs": [],
   "source": [
    "SW = define_stopwords(\"data/stopwords-ko.txt\")\n"
   ]
  },
  {
   "cell_type": "code",
   "execution_count": 18,
   "metadata": {},
   "outputs": [
    {
     "name": "stdout",
     "output_type": "stream",
     "text": [
      "(['진짜', '짜증', '요목', '소리'], '0')\n",
      "(['평점', '나쁘', '지만', '짜리', '더더욱', '아니', '잖아'], '0')\n"
     ]
    }
   ],
   "source": [
    "\n",
    "#train_data = [(text_tokenizing(line[1]),line[2]) for line in train_docs if text_tokenizing(line[1])]\n",
    "    \n",
    "# 정제하고 tokenizing 추천\n",
    "train_data = [(text_tokenizing(text_cleaning(line[1])),line[2]) for line in train_docs if text_tokenizing(text_cleaning(line[1]))]\n",
    "\n",
    "with open(\"train_docs.json\", \"w\",  encoding=\"utf-8\") as f:\n",
    "    json.dump(train_data, f, ensure_ascii=False, indent=\"\\t\")\n",
    "\n",
    "test_data = [(text_tokenizing(text_cleaning(line[1])),line[2]) for line in test_docs if text_tokenizing(text_cleaning(line[1]))]\n",
    "with open(\"test_docs.json\", \"w\",  encoding=\"utf-8\") as f:\n",
    "    json.dump(test_data, f, ensure_ascii=False, indent=\"\\t\")\n",
    "\n",
    "        \n",
    "pprint(train_data[0])\n",
    "pprint(test_data[0]) "
   ]
  },
  {
   "cell_type": "code",
   "execution_count": 17,
   "metadata": {},
   "outputs": [
    {
     "name": "stdout",
     "output_type": "stream",
     "text": [
      "None\n",
      "[['진짜', '짜증', '요목', '소리'], '0']\n"
     ]
    }
   ],
   "source": [
    "if os.path.exists(\"train_docs.json\"):\n",
    "    with open(\"train_docs.json\", encoding=\"utf-8\") as f:\n",
    "        train_data = json.load(f)\n",
    "else:\n",
    "#     train_data = [(text_tokenizing(line[1]),line[2]) for line in train_docs if text_tokenizing(line[1])]\n",
    "    \n",
    "    # 정제하고 tokenizing 추천\n",
    "    train_data = [(text_tokenizing(text_cleaning(line[1])),line[2]) for line in train_docs if text_tokenizing(text_cleaning(line[1]))]\n",
    "    \n",
    "    with open(\"train_docs.json\", \"w\",  encoding=\"utf-8\") as f:\n",
    "        json.dump(train_data, f, ensure_ascii=False, indent=\"\\t\")\n",
    "\n",
    "if os.path.exists(\"test_docs.json\"):\n",
    "    with open(\"test_docs.json\", encoding=\"utf-8\") as f:\n",
    "        test_data = json.load(f)\n",
    "else:\n",
    "    test_data = [(text_tokenizing(text_cleaning(line[1])),line[2]) for line in test_docs if text_tokenizing(text_cleaning(line[1]))]\n",
    "    with open(\"test_docs.json\", \"w\",  encoding=\"utf-8\") as f:\n",
    "        json.dump(test_data, f, ensure_ascii=False, indent=\"\\t\")\n",
    "        \n",
    "        \n",
    "pprint(train_data[0])\n",
    "pprint(test_data[0]) "
   ]
  },
  {
   "cell_type": "code",
   "execution_count": 19,
   "metadata": {},
   "outputs": [
    {
     "name": "stdout",
     "output_type": "stream",
     "text": [
      "3434\n",
      "1089\n"
     ]
    }
   ],
   "source": [
    "print(len(train_docs) - len(train_data))\n",
    "print(len(test_docs) - len(test_data))"
   ]
  },
  {
   "cell_type": "code",
   "execution_count": 23,
   "metadata": {},
   "outputs": [],
   "source": [
    "# 리스트를 하나로 묶는 함수 (string 이어야만 가능한 연산할때 유용)\n",
    "def list_to_str(List):\n",
    "    return \" \".join(List)"
   ]
  },
  {
   "cell_type": "markdown",
   "metadata": {},
   "source": [
    "## 사이킷런을 활용한 학습"
   ]
  },
  {
   "cell_type": "code",
   "execution_count": 25,
   "metadata": {},
   "outputs": [],
   "source": [
    "from sklearn.pipeline import Pipeline\n",
    "from sklearn.feature_extraction.text import CountVectorizer\n",
    "from sklearn.linear_model import SGDClassifier\n",
    "from sklearn.svm import SVC\n",
    "from sklearn.naive_bayes import MultinomialNB\n",
    "import numpy as np"
   ]
  },
  {
   "cell_type": "markdown",
   "metadata": {},
   "source": [
    "### 학습을 위한 데이터 정리"
   ]
  },
  {
   "cell_type": "code",
   "execution_count": 28,
   "metadata": {},
   "outputs": [
    {
     "name": "stdout",
     "output_type": "stream",
     "text": [
      "146566\n",
      "146566\n",
      "48911\n",
      "48911\n"
     ]
    }
   ],
   "source": [
    "# organize dataset for learning\n",
    "train_x = [list_to_str(doc) for doc, _ in train_data]\n",
    "test_x = [list_to_str(doc) for doc, _ in test_data]\n",
    "train_y = [label for _, label in train_data]\n",
    "test_y = [label for _, label in test_data]\n",
    "\n",
    "print(len(train_x))\n",
    "print(len(train_y))\n",
    "print(len(test_x))\n",
    "print(len(test_x))"
   ]
  },
  {
   "cell_type": "markdown",
   "metadata": {},
   "source": [
    "### 학습을 위한 파이프라인 만들기"
   ]
  },
  {
   "cell_type": "markdown",
   "metadata": {},
   "source": [
    "#### linear classifier"
   ]
  },
  {
   "cell_type": "code",
   "execution_count": 36,
   "metadata": {},
   "outputs": [
    {
     "name": "stdout",
     "output_type": "stream",
     "text": [
      "Training accuracy : 0.88 \n",
      "For 48911 test data\n",
      "Test Accuracy : 0.76\n"
     ]
    }
   ],
   "source": [
    "# 학습기 설정\n",
    "learner = Pipeline([\n",
    "    (\"vect\", CountVectorizer()),\n",
    "    (\"clf\", SGDClassifier(loss =\"perceptron\", \n",
    "                         alpha=1e-4, random_state=42,\n",
    "                         max_iter=100))\n",
    "])\n",
    "\n",
    "# 학습기 정하기\n",
    "classifier = learner\n",
    "\n",
    "# 학습\n",
    "classifier.fit(train_x, train_y)\n",
    "train_predict = classifier.predict(train_x)\n",
    "train_accuracy = np.mean(train_predict == train_y)\n",
    "\n",
    "# 테스트 (간단한 task라서 검증 과정은 하지 않음)\n",
    "test_predict = classifier.predict(test_x)\n",
    "test_accuracy = np.mean(test_predict == test_y)\n",
    "\n",
    "# 성능\n",
    "print(\"Training accuracy : %.2f \" % train_accuracy)\n",
    "print(\"For %d test data\" % len(test_x))\n",
    "print(\"Test Accuracy : %.2f\" % test_accuracy)"
   ]
  },
  {
   "cell_type": "markdown",
   "metadata": {},
   "source": [
    "### 테스트해보기\n",
    "\n",
    "* 전처리를 달리하는 경우 결과 비교\n",
    "* CountVectorizer 하이퍼 파라미터 변경 (https://scikit-learn.org/stable/modules/generated/sklearn.feature_extraction.text.CountVectorizer.html)"
   ]
  },
  {
   "cell_type": "markdown",
   "metadata": {},
   "source": [
    "### 새로운 리뷰가 들어온다면? 예측해보기"
   ]
  },
  {
   "cell_type": "code",
   "execution_count": null,
   "metadata": {},
   "outputs": [],
   "source": [
    "predict = classifier.predict([\"진짜 이렇게까지 재미없는 영화는 처음\", \"절대 보지 마세요\", \"시간 아깝다\", \"음 재밌기도 하고 아니기도 하고\"])\n",
    "predict"
   ]
  },
  {
   "cell_type": "code",
   "execution_count": 64,
   "metadata": {},
   "outputs": [
    {
     "data": {
      "text/plain": [
       "array(['1', '1', '1'], dtype='<U1')"
      ]
     },
     "execution_count": 64,
     "metadata": {},
     "output_type": "execute_result"
    }
   ],
   "source": [
    "predict = classifier.predict([\"너무너무 좋았어요\", \"돈이 아깝지 않은 영화\",\"감독님 최고, 배우들도 너무 좋고. 추천합니다\"])\n",
    "predict"
   ]
  },
  {
   "cell_type": "code",
   "execution_count": 50,
   "metadata": {},
   "outputs": [
    {
     "data": {
      "text/plain": [
       "'1'"
      ]
     },
     "execution_count": 50,
     "metadata": {},
     "output_type": "execute_result"
    }
   ],
   "source": []
  },
  {
   "cell_type": "code",
   "execution_count": null,
   "metadata": {},
   "outputs": [],
   "source": []
  },
  {
   "cell_type": "markdown",
   "metadata": {},
   "source": [
    "### SVM\n",
    "\n",
    "* 노이즈가 많거나 선형으로 분류가 어려운 문제에 강점\n",
    "* 하지만 커널별로 성능이 달라서 예측이 어려움"
   ]
  },
  {
   "cell_type": "code",
   "execution_count": 69,
   "metadata": {},
   "outputs": [],
   "source": [
    "# SVM basic, linear kernel\n",
    "learner2 = Pipeline([\n",
    "    (\"vect\", CountVectorizer()),\n",
    "    (\"clf\", SVC(kernel=\"linear\"))\n",
    "])\n",
    "\n",
    "# SVM with polynomial\n",
    "learner3 = Pipeline([\n",
    "    (\"vect\", CountVectorizer()),\n",
    "    (\"clf\", SVC(kernel=\"poly\", degree=8))\n",
    "])\n",
    "\n",
    "# SVM with radius basis function kernel\n",
    "learner4 = Pipeline([\n",
    "    (\"vect\", CountVectorizer()),\n",
    "    (\"clf\", SVC(kernel=\"rbf\"))\n",
    "])\n",
    "\n",
    "# SVM with sigmoid kernel\n",
    "learner5 = Pipeline([\n",
    "    (\"vect\", CountVectorizer()),\n",
    "    (\"clf\", SVC(kernel=\"sigmoid\"))\n",
    "])\n",
    "\n",
    "# Naive Bayes Classifier\n",
    "learner6 = Pipeline([\n",
    "    (\"vect\", CountVectorizer()),\n",
    "    (\"clf\", MultinomialNB())\n",
    "])"
   ]
  },
  {
   "cell_type": "code",
   "execution_count": null,
   "metadata": {},
   "outputs": [],
   "source": [
    "# 학습기 정하기\n",
    "classifier = learner6\n",
    "\n",
    "# 학습\n",
    "classifier.fit(train_x, train_y)\n",
    "train_predict = classifier.predict(train_x)\n",
    "train_accuracy = np.mean(train_predict == train_y)\n",
    "\n",
    "# 테스트 (간단한 task라서 검증 과정은 하지 않음)\n",
    "test_predict = classifier.predict(test_x)\n",
    "test_accuracy = np.mean(test_predict == test_y)\n",
    "\n",
    "# 성능\n",
    "print(\"Training accuracy : %.2f \" % train_accuracy)\n",
    "print(\"For %d test data\" % len(test_x))\n",
    "print(\"Test Accuracy : %.2f\" % test_accuracy)"
   ]
  },
  {
   "cell_type": "code",
   "execution_count": null,
   "metadata": {},
   "outputs": [],
   "source": []
  }
 ],
 "metadata": {
  "kernelspec": {
   "display_name": "Python 3",
   "language": "python",
   "name": "python3"
  },
  "language_info": {
   "codemirror_mode": {
    "name": "ipython",
    "version": 3
   },
   "file_extension": ".py",
   "mimetype": "text/x-python",
   "name": "python",
   "nbconvert_exporter": "python",
   "pygments_lexer": "ipython3",
   "version": "3.7.0"
  }
 },
 "nbformat": 4,
 "nbformat_minor": 2
}
