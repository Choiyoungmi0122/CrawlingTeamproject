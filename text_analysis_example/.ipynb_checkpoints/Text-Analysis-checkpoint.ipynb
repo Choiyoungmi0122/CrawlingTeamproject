{
 "cells": [
  {
   "cell_type": "markdown",
   "metadata": {},
   "source": [
    "## NSMC - Naver Sentiment Movie Corpus\n",
    "\n",
    "https://github.com/e9t/nsmc"
   ]
  },
  {
   "cell_type": "code",
   "execution_count": null,
   "metadata": {},
   "outputs": [],
   "source": [
    "# tab seperated file\n",
    "def read_documents(filename):\n",
    "    \n",
    "    return documents\n",
    "\n",
    "train_docs = read_documents(\"data/nsmc/ratings_train.txt\")\n",
    "test_docs = read_documents(\"data/nsmc/ratings_test.txt\")"
   ]
  }
 ],
 "metadata": {
  "kernelspec": {
   "display_name": "Python 3",
   "language": "python",
   "name": "python3"
  },
  "language_info": {
   "codemirror_mode": {
    "name": "ipython",
    "version": 3
   },
   "file_extension": ".py",
   "mimetype": "text/x-python",
   "name": "python",
   "nbconvert_exporter": "python",
   "pygments_lexer": "ipython3",
   "version": "3.7.3"
  }
 },
 "nbformat": 4,
 "nbformat_minor": 2
}
