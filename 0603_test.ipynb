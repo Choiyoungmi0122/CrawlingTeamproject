{
 "cells": [
  {
   "cell_type": "code",
   "execution_count": 1,
   "metadata": {},
   "outputs": [
    {
     "ename": "KeyError",
     "evalue": "\"['Mon', 'Tue', 'Wed', 'Thu', 'Fri', 'Sat', 'Sun'] not in index\"",
     "output_type": "error",
     "traceback": [
      "\u001b[0;31m---------------------------------------------------------------------------\u001b[0m",
      "\u001b[0;31mKeyError\u001b[0m                                  Traceback (most recent call last)",
      "Cell \u001b[0;32mIn[1], line 42\u001b[0m\n\u001b[1;32m     38\u001b[0m first_all \u001b[39m=\u001b[39m pd\u001b[39m.\u001b[39mread_csv(\u001b[39m\"\u001b[39m\u001b[39m/Users/kim/Desktop/youngmi/0603/강서구.csv\u001b[39m\u001b[39m\"\u001b[39m, encoding\u001b[39m=\u001b[39m\u001b[39m'\u001b[39m\u001b[39mutf-8\u001b[39m\u001b[39m'\u001b[39m)\n\u001b[1;32m     41\u001b[0m selected_columns \u001b[39m=\u001b[39m [\u001b[39m\"\u001b[39m\u001b[39mname\u001b[39m\u001b[39m\"\u001b[39m, \u001b[39m\"\u001b[39m\u001b[39maddress\u001b[39m\u001b[39m\"\u001b[39m, \u001b[39m\"\u001b[39m\u001b[39mtype\u001b[39m\u001b[39m\"\u001b[39m,  \u001b[39m\"\u001b[39m\u001b[39mMon\u001b[39m\u001b[39m\"\u001b[39m, \u001b[39m\"\u001b[39m\u001b[39mTue\u001b[39m\u001b[39m\"\u001b[39m, \u001b[39m\"\u001b[39m\u001b[39mWed\u001b[39m\u001b[39m\"\u001b[39m, \u001b[39m\"\u001b[39m\u001b[39mThu\u001b[39m\u001b[39m\"\u001b[39m, \u001b[39m\"\u001b[39m\u001b[39mFri\u001b[39m\u001b[39m\"\u001b[39m, \u001b[39m\"\u001b[39m\u001b[39mSat\u001b[39m\u001b[39m\"\u001b[39m, \u001b[39m\"\u001b[39m\u001b[39mSun\u001b[39m\u001b[39m\"\u001b[39m, \u001b[39m\"\u001b[39m\u001b[39mphone\u001b[39m\u001b[39m\"\u001b[39m]\n\u001b[0;32m---> 42\u001b[0m file \u001b[39m=\u001b[39m first_all[selected_columns]\n\u001b[1;32m     45\u001b[0m \u001b[39m# \"Mon\" 컬럼을 \"work\"와 \"break\"으로 분할\u001b[39;00m\n\u001b[1;32m     46\u001b[0m file[[\u001b[39m'\u001b[39m\u001b[39mwork\u001b[39m\u001b[39m'\u001b[39m, \u001b[39m'\u001b[39m\u001b[39mbreak\u001b[39m\u001b[39m'\u001b[39m]] \u001b[39m=\u001b[39m file[\u001b[39m'\u001b[39m\u001b[39mMon\u001b[39m\u001b[39m'\u001b[39m]\u001b[39m.\u001b[39mstr\u001b[39m.\u001b[39msplit(\u001b[39m'\u001b[39m\u001b[39m\\n\u001b[39;00m\u001b[39m'\u001b[39m, expand\u001b[39m=\u001b[39m\u001b[39mTrue\u001b[39;00m, n\u001b[39m=\u001b[39m\u001b[39m1\u001b[39m)\n",
      "File \u001b[0;32m~/Desktop/youngmi/.venv/lib/python3.9/site-packages/pandas/core/frame.py:3767\u001b[0m, in \u001b[0;36mDataFrame.__getitem__\u001b[0;34m(self, key)\u001b[0m\n\u001b[1;32m   3765\u001b[0m     \u001b[39mif\u001b[39;00m is_iterator(key):\n\u001b[1;32m   3766\u001b[0m         key \u001b[39m=\u001b[39m \u001b[39mlist\u001b[39m(key)\n\u001b[0;32m-> 3767\u001b[0m     indexer \u001b[39m=\u001b[39m \u001b[39mself\u001b[39;49m\u001b[39m.\u001b[39;49mcolumns\u001b[39m.\u001b[39;49m_get_indexer_strict(key, \u001b[39m\"\u001b[39;49m\u001b[39mcolumns\u001b[39;49m\u001b[39m\"\u001b[39;49m)[\u001b[39m1\u001b[39m]\n\u001b[1;32m   3769\u001b[0m \u001b[39m# take() does not accept boolean indexers\u001b[39;00m\n\u001b[1;32m   3770\u001b[0m \u001b[39mif\u001b[39;00m \u001b[39mgetattr\u001b[39m(indexer, \u001b[39m\"\u001b[39m\u001b[39mdtype\u001b[39m\u001b[39m\"\u001b[39m, \u001b[39mNone\u001b[39;00m) \u001b[39m==\u001b[39m \u001b[39mbool\u001b[39m:\n",
      "File \u001b[0;32m~/Desktop/youngmi/.venv/lib/python3.9/site-packages/pandas/core/indexes/base.py:5876\u001b[0m, in \u001b[0;36mIndex._get_indexer_strict\u001b[0;34m(self, key, axis_name)\u001b[0m\n\u001b[1;32m   5873\u001b[0m \u001b[39melse\u001b[39;00m:\n\u001b[1;32m   5874\u001b[0m     keyarr, indexer, new_indexer \u001b[39m=\u001b[39m \u001b[39mself\u001b[39m\u001b[39m.\u001b[39m_reindex_non_unique(keyarr)\n\u001b[0;32m-> 5876\u001b[0m \u001b[39mself\u001b[39;49m\u001b[39m.\u001b[39;49m_raise_if_missing(keyarr, indexer, axis_name)\n\u001b[1;32m   5878\u001b[0m keyarr \u001b[39m=\u001b[39m \u001b[39mself\u001b[39m\u001b[39m.\u001b[39mtake(indexer)\n\u001b[1;32m   5879\u001b[0m \u001b[39mif\u001b[39;00m \u001b[39misinstance\u001b[39m(key, Index):\n\u001b[1;32m   5880\u001b[0m     \u001b[39m# GH 42790 - Preserve name from an Index\u001b[39;00m\n",
      "File \u001b[0;32m~/Desktop/youngmi/.venv/lib/python3.9/site-packages/pandas/core/indexes/base.py:5938\u001b[0m, in \u001b[0;36mIndex._raise_if_missing\u001b[0;34m(self, key, indexer, axis_name)\u001b[0m\n\u001b[1;32m   5935\u001b[0m     \u001b[39mraise\u001b[39;00m \u001b[39mKeyError\u001b[39;00m(\u001b[39mf\u001b[39m\u001b[39m\"\u001b[39m\u001b[39mNone of [\u001b[39m\u001b[39m{\u001b[39;00mkey\u001b[39m}\u001b[39;00m\u001b[39m] are in the [\u001b[39m\u001b[39m{\u001b[39;00maxis_name\u001b[39m}\u001b[39;00m\u001b[39m]\u001b[39m\u001b[39m\"\u001b[39m)\n\u001b[1;32m   5937\u001b[0m not_found \u001b[39m=\u001b[39m \u001b[39mlist\u001b[39m(ensure_index(key)[missing_mask\u001b[39m.\u001b[39mnonzero()[\u001b[39m0\u001b[39m]]\u001b[39m.\u001b[39munique())\n\u001b[0;32m-> 5938\u001b[0m \u001b[39mraise\u001b[39;00m \u001b[39mKeyError\u001b[39;00m(\u001b[39mf\u001b[39m\u001b[39m\"\u001b[39m\u001b[39m{\u001b[39;00mnot_found\u001b[39m}\u001b[39;00m\u001b[39m not in index\u001b[39m\u001b[39m\"\u001b[39m)\n",
      "\u001b[0;31mKeyError\u001b[0m: \"['Mon', 'Tue', 'Wed', 'Thu', 'Fri', 'Sat', 'Sun'] not in index\""
     ]
    }
   ],
   "source": [
    "import csv\n",
    "import json\n",
    "import pandas as pd\n",
    "\n",
    "# JSON 파일 열기\n",
    "with open('/Users/kim/Desktop/youngmi/json모아둠/강서구.json', 'r', encoding='utf-8') as json_file:\n",
    "    data = json.load(json_file)\n",
    "\n",
    "# 변환된 데이터를 담을 리스트 생성\n",
    "transformed_data = []\n",
    "\n",
    "# 각 객체에 대해 변환 수행\n",
    "for item in data['병원정보']:\n",
    "    working_hours = item['영업시간']\n",
    "    working_hours_dict = {}\n",
    "    for working_hour in working_hours:\n",
    "        day, hours = working_hour.split('\\n', 1)\n",
    "        working_hours_dict[day] = hours.strip()\n",
    "    \n",
    "    transformed_item = {\n",
    "        'name': item['이름'],\n",
    "        'address': item['병원주소'],\n",
    "        'type': item['병원종류'],\n",
    "        **working_hours_dict,\n",
    "        'phone': item['전화번호']\n",
    "    }\n",
    "    transformed_data.append(transformed_item)\n",
    "\n",
    "# CSV 파일로 저장\n",
    "all_keys = set().union(*(item.keys() for item in transformed_data))\n",
    "fieldnames = list(all_keys)\n",
    "\n",
    "with open('/Users/kim/Desktop/youngmi/0603/강서구.csv', 'w', encoding='utf-8-sig', newline='') as csvfile:\n",
    "    writer = csv.DictWriter(csvfile, fieldnames=fieldnames)\n",
    "    writer.writeheader()\n",
    "    writer.writerows(transformed_data)\n",
    "\n",
    "first_all = pd.read_csv(\"/Users/kim/Desktop/youngmi/0603/강서구.csv\", encoding='utf-8')\n",
    "\n",
    "\n",
    "selected_columns = [\"name\", \"address\", \"type\",  \"Mon\", \"Tue\", \"Wed\", \"Thu\", \"Fri\", \"Sat\", \"Sun\", \"phone\"]\n",
    "file.columns = selected_columns\n",
    "\n",
    "\n",
    "# \"Mon\" 컬럼을 \"work\"와 \"break\"으로 분할\n",
    "file[['work', 'break']] = file['Mon'].str.split('\\n', expand=True, n=1)\n",
    "\n",
    "file.head()\n",
    "\n",
    "# # CSV 파일 경로\n",
    "# csv_file = '/Users/kim/Desktop/youngmi/jsontest/test1-1.csv'\n",
    "\n",
    "# # \"work\"와 \"break\" 컬럼만 선택하여 새로운 데이터프레임 생성\n",
    "# new_df = file[[\"name\", \"work\", \"break\"]].copy()\n",
    "\n",
    "# # \"break\" 컬럼에서 \"휴게시간\"을 기준으로 분리하여 \"break\"과 \"Submission_deadline\" 컬럼으로 나누기\n",
    "# new_df[\"break\"] = new_df[\"break\"].str.split(\" 휴게시간\").str[0]\n",
    "# new_df[\"Submission_deadline\"] = new_df[\"break\"].str.split(\" 휴게시간\\n\").str[-1]\n",
    "\n",
    "# # CSV 파일로 저장 (인코딩 설정 추가)\n",
    "# new_df.to_csv('/Users/kim/Desktop/youngmi/jsontest/test1-2.csv', index=False, encoding='utf-8-sig')"
   ]
  },
  {
   "cell_type": "code",
   "execution_count": null,
   "metadata": {},
   "outputs": [],
   "source": []
  }
 ],
 "metadata": {
  "kernelspec": {
   "display_name": ".venv",
   "language": "python",
   "name": "python3"
  },
  "language_info": {
   "codemirror_mode": {
    "name": "ipython",
    "version": 3
   },
   "file_extension": ".py",
   "mimetype": "text/x-python",
   "name": "python",
   "nbconvert_exporter": "python",
   "pygments_lexer": "ipython3",
   "version": "3.9.6"
  },
  "orig_nbformat": 4
 },
 "nbformat": 4,
 "nbformat_minor": 2
}
