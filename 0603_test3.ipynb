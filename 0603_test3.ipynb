{
 "cells": [
  {
   "cell_type": "code",
   "execution_count": 5,
   "metadata": {},
   "outputs": [
    {
     "name": "stdout",
     "output_type": "stream",
     "text": [
      "{'이름': '더착한치과의원', '주소': '부산 강서구 명지오션시티4로 59', '종류': '치과', '전화번호': '051-203-2875'}\n"
     ]
    }
   ],
   "source": [
    "import json\n",
    "\n",
    "# JSON 파일 열기\n",
    "with open('/Users/kim/Desktop/youngmi/json모아둠/강서구.json', 'r', encoding='utf-8') as json_file:\n",
    "    data = json.load(json_file)\n",
    "\n",
    "\n",
    "# 이름, 주소, 종류, 전화번호 키를 갖는 새로운 딕셔너리 생성\n",
    "new_data = {\n",
    "    '이름': data['병원정보'][0]['이름'],\n",
    "    '주소': data['병원정보'][0]['병원주소'],\n",
    "    '종류': data['병원정보'][0]['병원종류'],\n",
    "    '전화번호': data['병원정보'][0]['전화번호']\n",
    "}\n",
    "\n",
    "# 새로운 딕셔너리 출력\n",
    "print(new_data)\n"
   ]
  },
  {
   "cell_type": "code",
   "execution_count": 4,
   "metadata": {},
   "outputs": [
    {
     "name": "stdout",
     "output_type": "stream",
     "text": [
      "250\n"
     ]
    }
   ],
   "source": [
    "import json\n",
    "\n",
    "# JSON 파일 열기\n",
    "with open('/Users/kim/Desktop/youngmi/json모아둠/강서구.json', 'r', encoding='utf-8') as json_file:\n",
    "    data = json.load(json_file)\n",
    "\n",
    "# 원하는 키 또는 배열의 길이 확인\n",
    "count = len(data['병원정보'])\n",
    "print(count)"
   ]
  },
  {
   "cell_type": "code",
   "execution_count": 8,
   "metadata": {},
   "outputs": [],
   "source": [
    "import json\n",
    "\n",
    "# JSON 파일 열기\n",
    "with open('/Users/kim/Desktop/youngmi/json모아둠/강서구.json', 'r', encoding='utf-8') as json_file:\n",
    "    data = json.load(json_file)\n",
    "\n",
    "# 변환된 데이터를 담을 리스트 생성\n",
    "transformed_data = []\n",
    "\n",
    "# 각 객체에 대해 변환 수행\n",
    "for item in data['병원정보']:\n",
    "    working_hours = item['영업시간']\n",
    "    working_hours_dict = {}\n",
    "    for working_hour in working_hours:\n",
    "        day, hours = working_hour.split('\\n', 1)\n",
    "        working_hours_dict[day] = hours.strip()\n",
    "    \n",
    "    transformed_item = {\n",
    "        'name': item['이름'],\n",
    "        'address': item['병원주소'],\n",
    "        'type': item['병원종류'],\n",
    "        'work': working_hours_dict,\n",
    "        'phone': item['전화번호']\n",
    "    }\n",
    "    transformed_data.append(transformed_item)\n",
    "\n",
    "# 변환된 데이터를 파일에 저장\n",
    "with open('/Users/kim/Desktop/youngmi/jsontest/test1.json', 'w', encoding='utf-8') as f:\n",
    "    json.dump(transformed_data, f, indent=4, ensure_ascii=False)\n",
    "\n",
    "# # 변환된 데이터 출력\n",
    "# for item in transformed_data:\n",
    "#     print(item)\n",
    "\n"
   ]
  },
  {
   "cell_type": "code",
   "execution_count": null,
   "metadata": {},
   "outputs": [],
   "source": []
  }
 ],
 "metadata": {
  "kernelspec": {
   "display_name": ".venv",
   "language": "python",
   "name": "python3"
  },
  "language_info": {
   "codemirror_mode": {
    "name": "ipython",
    "version": 3
   },
   "file_extension": ".py",
   "mimetype": "text/x-python",
   "name": "python",
   "nbconvert_exporter": "python",
   "pygments_lexer": "ipython3",
   "version": "3.9.6"
  },
  "orig_nbformat": 4
 },
 "nbformat": 4,
 "nbformat_minor": 2
}
